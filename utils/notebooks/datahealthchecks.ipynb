{
 "cells": [
  {
   "cell_type": "markdown",
   "metadata": {},
   "source": [
    "# CROP Data Health Check\n",
    "This notebook checks the health of data from the 30MHz sensors."
   ]
  },
  {
   "cell_type": "code",
   "execution_count": null,
   "metadata": {},
   "outputs": [],
   "source": [
    "!pip3 install psycopg2\n",
    "!pip3 install plotly"
   ]
  },
  {
   "cell_type": "code",
   "execution_count": null,
   "metadata": {},
   "outputs": [],
   "source": [
    "import os\n",
    "from datetime import datetime, timedelta\n",
    "import psycopg2\n",
    "import pandas as pd\n",
    "import plotly.express as px\n",
    "from plotly.subplots import make_subplots\n",
    "import plotly.graph_objects as go\n"
   ]
  },
  {
   "cell_type": "markdown",
   "metadata": {},
   "source": [
    "Parameters"
   ]
  },
  {
   "cell_type": "code",
   "execution_count": null,
   "metadata": {},
   "outputs": [],
   "source": [
    "crop_host = \"\"\n",
    "crop_port = \"\"\n",
    "crop_dbname = \"\"\n",
    "crop_user = \"\"\n",
    "crop_password = \"\""
   ]
  },
  {
   "cell_type": "code",
   "execution_count": null,
   "metadata": {},
   "outputs": [],
   "source": [
    "conn = psycopg2.connect(\n",
    "    host=crop_host, port=crop_port, dbname=crop_dbname, \n",
    "    user=crop_user, password=crop_password)\n",
    "\n",
    "cur = conn.cursor()"
   ]
  },
  {
   "cell_type": "markdown",
   "metadata": {},
   "source": [
    "### Sensor Types\n",
    "\n",
    "All sensor types"
   ]
  },
  {
   "cell_type": "code",
   "execution_count": null,
   "metadata": {},
   "outputs": [],
   "source": [
    "sql_command = \"\"\"SELECT * FROM sensor_types\"\"\"\n",
    "df_sensors = pd.read_sql(sql_command, conn)\n",
    "df_sensors"
   ]
  },
  {
   "cell_type": "markdown",
   "metadata": {},
   "source": [
    "### Sensors\n",
    "\n",
    "All sensors"
   ]
  },
  {
   "cell_type": "code",
   "execution_count": null,
   "metadata": {},
   "outputs": [],
   "source": [
    "sql_command = \"\"\"SELECT * FROM sensors ORDER by last_updated DESC\"\"\"\n",
    "df_sensors = pd.read_sql(sql_command, conn)\n",
    "df_sensors"
   ]
  },
  {
   "cell_type": "markdown",
   "metadata": {},
   "source": [
    "### 30 MHz Data Access\n",
    "\n",
    "All 30 MHz data for the last year"
   ]
  },
  {
   "cell_type": "code",
   "execution_count": null,
   "metadata": {},
   "outputs": [],
   "source": [
    "dt_to = datetime.now()\n",
    "dt_from = dt_to + timedelta(days=-365)"
   ]
  },
  {
   "cell_type": "code",
   "execution_count": null,
   "metadata": {},
   "outputs": [],
   "source": [
    "sql_command = \"\"\"SELECT sensors.name, zensie_trh_data.* FROM sensor_types, sensors, zensie_trh_data WHERE sensors.id = zensie_trh_data.sensor_id AND zensie_trh_data.timestamp >= '%s' AND zensie_trh_data.timestamp < '%s'\"\"\" % (dt_from, dt_to)"
   ]
  },
  {
   "cell_type": "code",
   "execution_count": null,
   "metadata": {
    "scrolled": true
   },
   "outputs": [],
   "source": [
    "df_30MHz_raw = pd.read_sql(sql_command, conn)\n",
    "df_30MHz = df_30MHz_raw.drop_duplicates()"
   ]
  },
  {
   "cell_type": "markdown",
   "metadata": {},
   "source": [
    "Get individual dataframes per sensor"
   ]
  },
  {
   "cell_type": "code",
   "execution_count": null,
   "metadata": {
    "scrolled": true
   },
   "outputs": [],
   "source": [
    "s1 = df_30MHz['name']==\"Farm_T/RH_16B4\"\n",
    "df_16B4 = df_30MHz[s1]\n",
    "\n",
    "s2 = df_30MHz['name']==\"Farm_T/RH_29B2\"\n",
    "df_29B2 = df_30MHz[s2]\n",
    "\n",
    "s3 = df_30MHz['name']==\"FARM_T/RH_1B2\"\n",
    "df_1B2 = df_30MHz[s3]\n",
    "\n",
    "s4 = df_30MHz['name']==\"R&D_T/RH_1\"\n",
    "df_RD = df_30MHz[s4]\n"
   ]
  },
  {
   "cell_type": "markdown",
   "metadata": {},
   "source": [
    "### Plots to visualise gaps"
   ]
  },
  {
   "cell_type": "code",
   "execution_count": null,
   "metadata": {
    "scrolled": true
   },
   "outputs": [],
   "source": [
    "fig = make_subplots(rows=4, cols=1)\n",
    "\n",
    "#candlesticks = go.Candlestick(x=data.index, open=data['Open'], high=data['High'],\n",
    "#                   low=data['Low'], close=data['Close'])\n",
    "#fig = go.Figure(layout=cf_layout)\n",
    "#fig.add_trace(trace=candlesticks)\n",
    "#fig.show()\n",
    "\n",
    "\n",
    "fig.append_trace(go.Scatter(\n",
    "    x=df_16B4[\"timestamp\"],\n",
    "    y=df_16B4[\"temperature\"],\n",
    "    name='MHz30_16B4',\n",
    "    mode=\"markers\"\n",
    "), row=1, col=1)\n",
    "\n",
    "\n",
    "fig.append_trace(go.Scatter(\n",
    "    x=df_29B2[\"timestamp\"],\n",
    "    y=df_29B2[\"temperature\"],\n",
    "    name='MHz30_29B2',\n",
    "    mode=\"markers\"\n",
    "), row=2, col=1)\n",
    "\n",
    "fig.append_trace(go.Scatter(\n",
    "    x=df_1B2[\"timestamp\"],\n",
    "    y=df_1B2[\"temperature\"],\n",
    "    name='MHz30_1B2',\n",
    "    mode=\"markers\"\n",
    "), row=3, col=1)\n",
    "\n",
    "fig.append_trace(go.Scatter(\n",
    "    x=df_RD[\"timestamp\"],\n",
    "    y=df_RD[\"temperature\"],\n",
    "    name='MHz30_R&D',\n",
    "    mode=\"markers\"\n",
    "), row=4, col=1)\n",
    "\n",
    "\n",
    "fig.update_traces(marker=dict(size=2))\n",
    "fig.show()"
   ]
  },
  {
   "cell_type": "code",
   "execution_count": null,
   "metadata": {},
   "outputs": [],
   "source": [
    "df = df_16B4[['timestamp','temperature', 'humidity']].copy()\n",
    "\n",
    "df['Day'] = df['timestamp'].apply(lambda x: \"%d-%d-%d\" % (x.year, x.month, x.day))\n",
    "df['Day'] = pd.to_datetime(df['Day'])\n",
    "\n",
    "df_cnt = df.groupby(['Day']).count().reset_index()\n",
    "df_cnt\n",
    "plot = px.scatter(df_cnt, x=\"Day\", y=\"temperature\" , height=400)\n",
    "\n",
    "plot = px.scatter(df_cnt, x=\"Day\", y=\"temperature\" , height=400, \n",
    "                  labels={\n",
    "                     \"Day\": \"Date\",\n",
    "                     \"temperature\": \"Sensor enties Counts\"\n",
    "                 },\n",
    "                title=\"Count Sensor Entries per day\")\n",
    "plot.update_traces(marker=dict(size=4))\n",
    "plot.show()\n"
   ]
  },
  {
   "cell_type": "code",
   "execution_count": null,
   "metadata": {},
   "outputs": [],
   "source": []
  }
 ],
 "metadata": {
  "kernelspec": {
   "display_name": "Python 3",
   "language": "python",
   "name": "python3"
  },
  "language_info": {
   "codemirror_mode": {
    "name": "ipython",
    "version": 3
   },
   "file_extension": ".py",
   "mimetype": "text/x-python",
   "name": "python",
   "nbconvert_exporter": "python",
   "pygments_lexer": "ipython3",
   "version": "3.8.8"
  }
 },
 "nbformat": 4,
 "nbformat_minor": 4
}
