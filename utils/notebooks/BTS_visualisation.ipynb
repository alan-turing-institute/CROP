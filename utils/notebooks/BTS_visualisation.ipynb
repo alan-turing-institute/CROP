{
 "cells": [
  {
   "cell_type": "markdown",
   "metadata": {},
   "source": [
    "# CROP BTS model\n",
    "This notebook checks outputs of the BTS model"
   ]
  },
  {
   "cell_type": "code",
   "execution_count": null,
   "metadata": {},
   "outputs": [],
   "source": [
    "#!pip3 install psycopg2\n",
    "#!pip3 install plotly"
   ]
  },
  {
   "cell_type": "code",
   "execution_count": null,
   "metadata": {},
   "outputs": [],
   "source": [
    "import os\n",
    "from datetime import datetime, timedelta\n",
    "import psycopg2\n",
    "import pandas as pd\n",
    "import plotly.express as px\n",
    "from plotly.subplots import make_subplots\n",
    "import plotly.graph_objects as go\n",
    "import matplotlib.pyplot as plt"
   ]
  },
  {
   "cell_type": "markdown",
   "metadata": {},
   "source": [
    "Parameters"
   ]
  },
  {
   "cell_type": "code",
   "execution_count": null,
   "metadata": {},
   "outputs": [],
   "source": [
    "crop_host = \"\"\n",
    "crop_port = \"\"\n",
    "crop_dbname = \"\"\n",
    "crop_user = \"\"\n",
    "crop_password = \"\""
   ]
  },
  {
   "cell_type": "code",
   "execution_count": null,
   "metadata": {},
   "outputs": [],
   "source": [
    "conn = psycopg2.connect(\n",
    "    host=crop_host, port=crop_port, dbname=crop_dbname, \n",
    "    user=crop_user, password=crop_password)\n",
    "\n",
    "cur = conn.cursor()"
   ]
  },
  {
   "cell_type": "markdown",
   "metadata": {},
   "source": [
    "### BTS Data Access\n",
    "\n",
    "All BTS data for 3 sensors"
   ]
  },
  {
   "cell_type": "code",
   "execution_count": null,
   "metadata": {},
   "outputs": [],
   "source": [
    "#dt_to = datetime.now()\n",
    "dt_to = datetime(2021, 4, 27)  \n",
    "dt_from = dt_to + timedelta(days=-15)"
   ]
  },
  {
   "cell_type": "code",
   "execution_count": null,
   "metadata": {},
   "outputs": [],
   "source": [
    "#sql_command = \"\"\"SELECT * FROM model_run\"\"\"\n",
    "\n",
    "sql_command = \"\"\"SELECT model.id, model.model_name,  model_run.sensor_id, model_run.time_forecast, model_measure.measure_name, model_product.run_id, model_value.prediction_index,model_value.prediction_value \n",
    "FROM model, model_run, model_measure, model_product, model_value WHERE model.id =2 AND model_run.model_id = model.id  \n",
    "AND model_product.run_id = model_run.id AND model_product.measure_id = model_measure.id AND model_value.product_id = model_product.id\n",
    "AND model_run.time_forecast >= '%s' AND model_run.time_forecast < '%s'\"\"\" % (dt_from, dt_to)\n"
   ]
  },
  {
   "cell_type": "code",
   "execution_count": null,
   "metadata": {},
   "outputs": [],
   "source": [
    "bts_raw = pd.read_sql(sql_command, conn)\n",
    "bts = bts_raw.drop_duplicates()\n",
    "bts"
   ]
  },
  {
   "cell_type": "markdown",
   "metadata": {},
   "source": [
    "## Calculate and add column with prediciton time"
   ]
  },
  {
   "cell_type": "code",
   "execution_count": null,
   "metadata": {},
   "outputs": [],
   "source": [
    "prediction_hours= []\n",
    "for i in range(len(bts)):\n",
    "   prediction_hours.append(bts['time_forecast'][i] + timedelta(hours= int(bts['prediction_index'][i])))\n",
    "\n",
    "bts['prediction_time'] = prediction_hours\n",
    "\n",
    "bts\n"
   ]
  },
  {
   "cell_type": "code",
   "execution_count": null,
   "metadata": {},
   "outputs": [],
   "source": [
    "#test = bts[bts['run_id'] ==  86]\n"
   ]
  },
  {
   "cell_type": "code",
   "execution_count": null,
   "metadata": {},
   "outputs": [],
   "source": [
    "#unique_run_ids = bts['run_id'].unique()\n",
    "unique_sensors = bts['sensor_id'].unique()\n",
    "unique_time_forecast = bts['time_forecast'].unique()\n",
    "unique_measures = bts['measure_name'].unique()\n",
    "\n",
    "unique_time_forecast"
   ]
  },
  {
   "cell_type": "code",
   "execution_count": null,
   "metadata": {},
   "outputs": [],
   "source": [
    "date_time = pd.to_datetime(unique_time_forecast[0])\n",
    "date_time\n",
    "#type(date_time)\n",
    "#type(datetime(2021, 6, 16))"
   ]
  },
  {
   "cell_type": "markdown",
   "metadata": {},
   "source": [
    "### Get Temperature data from Zensie Sensors\n",
    "\n",
    "All Zensie sensors"
   ]
  },
  {
   "cell_type": "code",
   "execution_count": null,
   "metadata": {},
   "outputs": [],
   "source": [
    "dt_to_z = date_time + timedelta(days=+3) #datetime(2021, 6, 16)\n",
    "dt_from_z = dt_to_z + timedelta(days=-6)"
   ]
  },
  {
   "cell_type": "code",
   "execution_count": null,
   "metadata": {},
   "outputs": [],
   "source": [
    "sql_command_zensie = \"\"\"SELECT sensors.name, zensie_trh_data.* FROM sensor_types, sensors, zensie_trh_data WHERE sensors.id = zensie_trh_data.sensor_id AND zensie_trh_data.timestamp >= '%s' AND zensie_trh_data.timestamp < '%s'\"\"\" % (dt_from_z, dt_to_z)"
   ]
  },
  {
   "cell_type": "code",
   "execution_count": null,
   "metadata": {},
   "outputs": [],
   "source": [
    "zensie_raw = pd.read_sql(sql_command_zensie, conn)\n",
    "zensie_df = zensie_raw.drop_duplicates()\n",
    "zensie_df"
   ]
  },
  {
   "cell_type": "markdown",
   "metadata": {},
   "source": [
    "## Visualisation and parameters"
   ]
  },
  {
   "cell_type": "code",
   "execution_count": null,
   "metadata": {},
   "outputs": [],
   "source": [
    "time_forecast_id= 0\n",
    "time_forecast = unique_time_forecast[time_forecast_id]"
   ]
  },
  {
   "cell_type": "code",
   "execution_count": null,
   "metadata": {},
   "outputs": [],
   "source": [
    "color = [\"red\", 'blue', 'white']\n",
    "for j in range (len(unique_sensors)):\n",
    "\n",
    "    # set up plotly figure\n",
    "    fig = go.Figure()\n",
    "    \n",
    "    bts_df = bts[(bts['sensor_id'] == unique_sensors[j]) & (bts['time_forecast'] == time_forecast)]\n",
    "\n",
    "    # add line / trace 1 to figure\n",
    "    for i in range(len (unique_measures)):\n",
    "        trace_sensor = bts_df[bts_df['measure_name'] == unique_measures[i]]\n",
    "        fig.add_trace(go.Scatter(\n",
    "            x=trace_sensor['prediction_time'],\n",
    "            y=trace_sensor['prediction_value'],\n",
    "            #hovertext=df['A_info'],\n",
    "            #hoverinfo=\"text\",\n",
    "            name=unique_measures[i],#unique_measures[j],\n",
    "            marker=dict(\n",
    "                color=color[i],\n",
    "            ),\n",
    "            showlegend=True\n",
    "        ))\n",
    "\n",
    "    # add line / trace 2 to figure\n",
    "    \n",
    "    zensie_df_s = zensie_df[zensie_df['sensor_id'] == unique_sensors[j]]\n",
    "    fig.add_trace(go.Scatter(\n",
    "        x=zensie_df_s['timestamp'],\n",
    "        y=zensie_df_s['temperature'],\n",
    "        name='zensie',\n",
    "        marker=dict(\n",
    "            color=\"green\"\n",
    "        ),\n",
    "        showlegend=False\n",
    "    ))\n",
    "    \n",
    "    fig.update_layout(\n",
    "    title=\"BTS and Zensie data: Sensor id %s\" % unique_sensors[j] ,\n",
    "    xaxis_title=\"Date\",\n",
    "    yaxis_title=\"Temperature\")\n",
    "\n",
    "    fig.show()"
   ]
  },
  {
   "cell_type": "markdown",
   "metadata": {},
   "source": [
    "## Calculate Square root mean error"
   ]
  },
  {
   "cell_type": "code",
   "execution_count": null,
   "metadata": {},
   "outputs": [],
   "source": [
    "import sklearn\n",
    "from sklearn.metrics import mean_squared_error"
   ]
  },
  {
   "cell_type": "code",
   "execution_count": null,
   "metadata": {},
   "outputs": [],
   "source": [
    "unique_measures"
   ]
  }
 ],
 "metadata": {
  "kernelspec": {
   "display_name": "Python 3",
   "language": "python",
   "name": "python3"
  },
  "language_info": {
   "codemirror_mode": {
    "name": "ipython",
    "version": 3
   },
   "file_extension": ".py",
   "mimetype": "text/x-python",
   "name": "python",
   "nbconvert_exporter": "python",
   "pygments_lexer": "ipython3",
   "version": "3.8.8"
  }
 },
 "nbformat": 4,
 "nbformat_minor": 4
}
