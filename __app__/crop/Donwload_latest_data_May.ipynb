{
 "cells": [
  {
   "cell_type": "markdown",
   "metadata": {},
   "source": [
    "Downloading the data for running the models\n",
    "\n",
    "# Set up\n",
    "\n",
    "## Step 1: import the necessary packages"
   ]
  },
  {
   "cell_type": "code",
   "execution_count": 1,
   "metadata": {},
   "outputs": [],
   "source": [
    "import os\n",
    "from datetime import datetime, timedelta\n",
    "import psycopg2\n",
    "import pandas as pd\n",
    "#import matplotlib\n"
   ]
  },
  {
   "cell_type": "code",
   "execution_count": 2,
   "metadata": {},
   "outputs": [
    {
     "output_type": "stream",
     "name": "stdout",
     "text": [
      "1.2.3\n2.8.6 (dt dec pq3 ext lo64)\n"
     ]
    }
   ],
   "source": [
    "print(pd.__version__)\n",
    "print(psycopg2.__version__)"
   ]
  },
  {
   "cell_type": "markdown",
   "metadata": {},
   "source": [
    "## Step 2: connect to the database"
   ]
  },
  {
   "cell_type": "code",
   "execution_count": 3,
   "metadata": {},
   "outputs": [],
   "source": [
    "crop_host = \"cropapptestsqlserver.postgres.database.azure.com\"\n",
    "crop_port = \"5432\"\n",
    "crop_dbname = \"app_db\"\n",
    "crop_user = \"cropreader@cropapptestsqlserver\"\n",
    "crop_password = \"z9a6u9hBMeT9gQmn5FDK\"\n"
   ]
  },
  {
   "cell_type": "code",
   "execution_count": 4,
   "metadata": {},
   "outputs": [
    {
     "output_type": "stream",
     "name": "stdout",
     "text": [
      "2.8.6 (dt dec pq3 ext lo64)\n"
     ]
    }
   ],
   "source": [
    "print(psycopg2.__version__)"
   ]
  },
  {
   "cell_type": "code",
   "execution_count": 5,
   "metadata": {},
   "outputs": [],
   "source": [
    "conn = psycopg2.connect(host=crop_host, port=crop_port, dbname=crop_dbname,     user=crop_user, password=crop_password)"
   ]
  },
  {
   "cell_type": "code",
   "execution_count": 6,
   "metadata": {},
   "outputs": [],
   "source": [
    "cur = conn.cursor()"
   ]
  },
  {
   "cell_type": "markdown",
   "metadata": {},
   "source": [
    "# Access latest environmental and energy data"
   ]
  },
  {
   "cell_type": "markdown",
   "metadata": {},
   "source": [
    "In this section we access the latest data from the relevant tables for the last 2 years. "
   ]
  },
  {
   "cell_type": "code",
   "execution_count": 12,
   "metadata": {},
   "outputs": [],
   "source": [
    "# select your date range\n",
    "# we want the last 2 years\n",
    "\n",
    "dt_to = datetime.now()\n",
    "dt_from = dt_to + timedelta(days=-366)\n",
    "print(dt_from)\n"
   ]
  },
  {
   "cell_type": "markdown",
   "metadata": {},
   "source": [
    "## Data from zensie platform"
   ]
  },
  {
   "cell_type": "code",
   "execution_count": 10,
   "metadata": {},
   "outputs": [
    {
     "output_type": "execute_result",
     "data": {
      "text/plain": [
       "               name      id  sensor_id           timestamp  temperature  \\\n",
       "2206035  R&D_T/RH_1  543386         24 2021-05-31 06:30:00        20.75   \n",
       "2206036  R&D_T/RH_1  543386         24 2021-05-31 06:30:00        20.75   \n",
       "2206037  R&D_T/RH_1  543386         24 2021-05-31 06:30:00        20.75   \n",
       "2206038  R&D_T/RH_1  543386         24 2021-05-31 06:30:00        20.75   \n",
       "2206039  R&D_T/RH_1  543386         24 2021-05-31 06:30:00        20.75   \n",
       "\n",
       "         humidity               time_created time_updated  \n",
       "2206035      66.0 2021-05-31 07:00:20.752727         None  \n",
       "2206036      66.0 2021-05-31 07:00:20.752727         None  \n",
       "2206037      66.0 2021-05-31 07:00:20.752727         None  \n",
       "2206038      66.0 2021-05-31 07:00:20.752727         None  \n",
       "2206039      66.0 2021-05-31 07:00:20.752727         None  "
      ],
      "text/html": "<div>\n<style scoped>\n    .dataframe tbody tr th:only-of-type {\n        vertical-align: middle;\n    }\n\n    .dataframe tbody tr th {\n        vertical-align: top;\n    }\n\n    .dataframe thead th {\n        text-align: right;\n    }\n</style>\n<table border=\"1\" class=\"dataframe\">\n  <thead>\n    <tr style=\"text-align: right;\">\n      <th></th>\n      <th>name</th>\n      <th>id</th>\n      <th>sensor_id</th>\n      <th>timestamp</th>\n      <th>temperature</th>\n      <th>humidity</th>\n      <th>time_created</th>\n      <th>time_updated</th>\n    </tr>\n  </thead>\n  <tbody>\n    <tr>\n      <th>2206035</th>\n      <td>R&amp;D_T/RH_1</td>\n      <td>543386</td>\n      <td>24</td>\n      <td>2021-05-31 06:30:00</td>\n      <td>20.75</td>\n      <td>66.0</td>\n      <td>2021-05-31 07:00:20.752727</td>\n      <td>None</td>\n    </tr>\n    <tr>\n      <th>2206036</th>\n      <td>R&amp;D_T/RH_1</td>\n      <td>543386</td>\n      <td>24</td>\n      <td>2021-05-31 06:30:00</td>\n      <td>20.75</td>\n      <td>66.0</td>\n      <td>2021-05-31 07:00:20.752727</td>\n      <td>None</td>\n    </tr>\n    <tr>\n      <th>2206037</th>\n      <td>R&amp;D_T/RH_1</td>\n      <td>543386</td>\n      <td>24</td>\n      <td>2021-05-31 06:30:00</td>\n      <td>20.75</td>\n      <td>66.0</td>\n      <td>2021-05-31 07:00:20.752727</td>\n      <td>None</td>\n    </tr>\n    <tr>\n      <th>2206038</th>\n      <td>R&amp;D_T/RH_1</td>\n      <td>543386</td>\n      <td>24</td>\n      <td>2021-05-31 06:30:00</td>\n      <td>20.75</td>\n      <td>66.0</td>\n      <td>2021-05-31 07:00:20.752727</td>\n      <td>None</td>\n    </tr>\n    <tr>\n      <th>2206039</th>\n      <td>R&amp;D_T/RH_1</td>\n      <td>543386</td>\n      <td>24</td>\n      <td>2021-05-31 06:30:00</td>\n      <td>20.75</td>\n      <td>66.0</td>\n      <td>2021-05-31 07:00:20.752727</td>\n      <td>None</td>\n    </tr>\n  </tbody>\n</table>\n</div>"
     },
     "metadata": {},
     "execution_count": 10
    }
   ],
   "source": [
    "## 30 MHz Data Access Example\n",
    "\n",
    "sql_command = \"\"\"SELECT sensors.name, zensie_trh_data.* FROM sensor_types, sensors, zensie_trh_data WHERE sensors.id = zensie_trh_data.sensor_id AND zensie_trh_data.timestamp >= '%s' AND zensie_trh_data.timestamp < '%s'\"\"\" % (dt_from, dt_to)\n",
    "\n",
    "\n",
    "df_30MHz = pd.read_sql(sql_command, conn)\n",
    "\n",
    "df_30MHz.tail()\n"
   ]
  },
  {
   "cell_type": "markdown",
   "metadata": {},
   "source": [
    "## Data from Stark "
   ]
  },
  {
   "cell_type": "code",
   "execution_count": 109,
   "metadata": {},
   "outputs": [
    {
     "data": {
      "text/html": [
       "<div>\n",
       "<style scoped>\n",
       "    .dataframe tbody tr th:only-of-type {\n",
       "        vertical-align: middle;\n",
       "    }\n",
       "\n",
       "    .dataframe tbody tr th {\n",
       "        vertical-align: top;\n",
       "    }\n",
       "\n",
       "    .dataframe thead th {\n",
       "        text-align: right;\n",
       "    }\n",
       "</style>\n",
       "<table border=\"1\" class=\"dataframe\">\n",
       "  <thead>\n",
       "    <tr style=\"text-align: right;\">\n",
       "      <th></th>\n",
       "      <th>timestamp</th>\n",
       "      <th>electricity_consumption</th>\n",
       "      <th>time_created</th>\n",
       "      <th>time_updated</th>\n",
       "      <th>sensor_id</th>\n",
       "      <th>id</th>\n",
       "    </tr>\n",
       "  </thead>\n",
       "  <tbody>\n",
       "    <tr>\n",
       "      <th>36091</th>\n",
       "      <td>2021-05-09 22:00:00</td>\n",
       "      <td>1.34</td>\n",
       "      <td>NaT</td>\n",
       "      <td>None</td>\n",
       "      <td>16</td>\n",
       "      <td>54044</td>\n",
       "    </tr>\n",
       "    <tr>\n",
       "      <th>36092</th>\n",
       "      <td>2021-05-09 22:30:00</td>\n",
       "      <td>1.34</td>\n",
       "      <td>NaT</td>\n",
       "      <td>None</td>\n",
       "      <td>16</td>\n",
       "      <td>54045</td>\n",
       "    </tr>\n",
       "    <tr>\n",
       "      <th>36093</th>\n",
       "      <td>2021-05-09 23:00:00</td>\n",
       "      <td>1.34</td>\n",
       "      <td>NaT</td>\n",
       "      <td>None</td>\n",
       "      <td>16</td>\n",
       "      <td>54046</td>\n",
       "    </tr>\n",
       "    <tr>\n",
       "      <th>36094</th>\n",
       "      <td>2021-05-09 23:30:00</td>\n",
       "      <td>1.34</td>\n",
       "      <td>NaT</td>\n",
       "      <td>None</td>\n",
       "      <td>16</td>\n",
       "      <td>54047</td>\n",
       "    </tr>\n",
       "    <tr>\n",
       "      <th>36095</th>\n",
       "      <td>2021-05-10 00:00:00</td>\n",
       "      <td>1.33</td>\n",
       "      <td>NaT</td>\n",
       "      <td>None</td>\n",
       "      <td>16</td>\n",
       "      <td>54048</td>\n",
       "    </tr>\n",
       "  </tbody>\n",
       "</table>\n",
       "</div>"
      ],
      "text/plain": [
       "                timestamp  electricity_consumption time_created time_updated  \\\n",
       "36091 2021-05-09 22:00:00                     1.34          NaT         None   \n",
       "36092 2021-05-09 22:30:00                     1.34          NaT         None   \n",
       "36093 2021-05-09 23:00:00                     1.34          NaT         None   \n",
       "36094 2021-05-09 23:30:00                     1.34          NaT         None   \n",
       "36095 2021-05-10 00:00:00                     1.33          NaT         None   \n",
       "\n",
       "       sensor_id     id  \n",
       "36091         16  54044  \n",
       "36092         16  54045  \n",
       "36093         16  54046  \n",
       "36094         16  54047  \n",
       "36095         16  54048  "
      ]
     },
     "execution_count": 109,
     "metadata": {},
     "output_type": "execute_result"
    }
   ],
   "source": [
    "## Accessing new energy data\n",
    "\n",
    "sql_command = \"\"\"SELECT * FROM utc_energy_data WHERE utc_energy_data.timestamp >= '%s' AND utc_energy_data.timestamp < '%s'\"\"\" % (dt_from, dt_to)\n",
    "\n",
    "\n",
    "df_energy_utc = pd.read_sql(sql_command, conn)\n",
    "\n",
    "df_energy_utc.tail()"
   ]
  },
  {
   "cell_type": "markdown",
   "metadata": {},
   "source": [
    "# Save the data in LatestData folder"
   ]
  },
  {
   "cell_type": "code",
   "execution_count": 19,
   "metadata": {},
   "outputs": [],
   "source": [
    "data_folder = \"C:/Users/mkj32/OneDrive - UIS/GU/Models_Live/LatestData\"\n",
    "\n",
    "os.chdir(data_folder)"
   ]
  },
  {
   "cell_type": "code",
   "execution_count": 20,
   "metadata": {},
   "outputs": [],
   "source": [
    "# save zensie data to csv file\n",
    "df_30MHz.to_csv(data_folder +\"\\Env_30MHz_raw.csv\")"
   ]
  },
  {
   "cell_type": "code",
   "execution_count": 21,
   "metadata": {},
   "outputs": [
    {
     "ename": "NameError",
     "evalue": "name 'df_energy_utc' is not defined",
     "output_type": "error",
     "traceback": [
      "\u001b[1;31m---------------------------------------------------------------------------\u001b[0m",
      "\u001b[1;31mNameError\u001b[0m                                 Traceback (most recent call last)",
      "\u001b[1;32m<ipython-input-21-10fd77ce94c6>\u001b[0m in \u001b[0;36m<module>\u001b[1;34m\u001b[0m\n\u001b[0;32m      1\u001b[0m \u001b[1;31m# save utc energy\u001b[0m\u001b[1;33m\u001b[0m\u001b[1;33m\u001b[0m\u001b[1;33m\u001b[0m\u001b[0m\n\u001b[1;32m----> 2\u001b[1;33m \u001b[0mdf_energy_utc\u001b[0m\u001b[1;33m.\u001b[0m\u001b[0mto_csv\u001b[0m\u001b[1;33m(\u001b[0m\u001b[0mdata_folder\u001b[0m \u001b[1;33m+\u001b[0m\u001b[1;34m\"\\Energy_utc.csv\"\u001b[0m\u001b[1;33m)\u001b[0m\u001b[1;33m\u001b[0m\u001b[1;33m\u001b[0m\u001b[0m\n\u001b[0m",
      "\u001b[1;31mNameError\u001b[0m: name 'df_energy_utc' is not defined"
     ]
    }
   ],
   "source": [
    "# save utc energy \n",
    "df_energy_utc.to_csv(data_folder +\"\\Energy_utc.csv\")\n"
   ]
  },
  {
   "cell_type": "code",
   "execution_count": null,
   "metadata": {},
   "outputs": [],
   "source": []
  }
 ],
 "metadata": {
  "kernelspec": {
   "name": "python3710jvsc74a57bd062830951d42064a77ddcbbe50cc184bfba2fd47286e32c34434c4d86c0a784dc",
   "display_name": "Python 3.7.10 64-bit ('toymodel0': conda)"
  },
  "language_info": {
   "codemirror_mode": {
    "name": "ipython",
    "version": 3
   },
   "file_extension": ".py",
   "mimetype": "text/x-python",
   "name": "python",
   "nbconvert_exporter": "python",
   "pygments_lexer": "ipython3",
   "version": "3.7.10"
  }
 },
 "nbformat": 4,
 "nbformat_minor": 2
}